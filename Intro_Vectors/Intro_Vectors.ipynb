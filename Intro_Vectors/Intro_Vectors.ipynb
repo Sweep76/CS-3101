{
 "cells": [
  {
   "cell_type": "code",
   "execution_count": null,
   "metadata": {},
   "outputs": [],
   "source": [
    "# Link below for sir's repository\n",
    "# https://github.com/gerard-ompad/Linear_Algebra/tree/main"
   ]
  },
  {
   "cell_type": "code",
   "execution_count": 22,
   "metadata": {},
   "outputs": [
    {
     "name": "stdout",
     "output_type": "stream",
     "text": [
      "Let u = (1,-2,4) and v = (3,5,1) w = (2,1,-3)\n",
      "\n",
      "a. 3u-2v: [ -3 -16  10]\n",
      "b. 5u+3v-4w: [ 6  1 35]\n",
      "c. u.v, v.w, u.w\n",
      "  u.v =  -3\n",
      "  v.w =  8\n",
      "  u.w =  -12\n"
     ]
    }
   ],
   "source": [
    "# 1. Let u = (1,-2,4) and v = (3,5,1) w = (2,1,-3)\n",
    "import numpy as np\n",
    "u = np.array([1,-2,4])\n",
    "v = np.array([3,5,1])\n",
    "w = np.array([2,1,-3])\n",
    "\n",
    "# a. 3u - 2v\n",
    "# b. 5u + 3v - 4w\n",
    "print(\"Let u = (1,-2,4) and v = (3,5,1) w = (2,1,-3)\\n\")\n",
    "print(\"a. 3u-2v:\",(3*u)-(2*v))\n",
    "print(\"b. 5u+3v-4w:\", (5*u) + (3*v) - (4*w))\n",
    "\n",
    "# c. u.v, v.w, u.w\n",
    "print(\"c. u.v, v.w, u.w\")\n",
    "print(\"  u.v = \", u.dot(v))\n",
    "print(\"  v.w = \", v.dot(w))\n",
    "print(\"  u.w = \", u.dot(w))\n",
    "\n",
    "# d. ||u||,||v||,||w||\n",
    "\n",
    "\n",
    "\n",
    "\n",
    "# e. if theta is the angle between u and v find cos 0\n",
    "# f. if a is the angle between v and w find cos a\n",
    "# g. if beta is the angle between u and w find cos b\n",
    "# h. Find d(u,v)\n",
    "# i. Find d(w,v)\n",
    "# j. Find d(u,w)\n",
    "# k. Find proj(u, v)\n",
    "# l. Find proj(w, v)\n",
    "# m. Find proj(u, w)\n",
    "\n",
    "\n",
    "\n",
    "\n",
    "\n",
    "# 1. Let u = (1,-2,4) and v = (3,5,1) w = (2,1,-3)\n",
    "# a. cos0\n",
    "# b. Find proj(u,v)\n",
    "# c. Find d(u,v)\n",
    "# print(\"\\nangle:\",u.dot(v)/(np.linalg.norm(u)*np.linalg.norm(v)))\n",
    "# print(\"angle:\",19/(np.sqrt(26)*np.sqrt(74)))\n",
    "\n",
    "\n"
   ]
  },
  {
   "cell_type": "code",
   "execution_count": null,
   "metadata": {},
   "outputs": [],
   "source": []
  }
 ],
 "metadata": {
  "kernelspec": {
   "display_name": "Python 3",
   "language": "python",
   "name": "python3"
  },
  "language_info": {
   "codemirror_mode": {
    "name": "ipython",
    "version": 3
   },
   "file_extension": ".py",
   "mimetype": "text/x-python",
   "name": "python",
   "nbconvert_exporter": "python",
   "pygments_lexer": "ipython3",
   "version": "3.11.5"
  },
  "orig_nbformat": 4
 },
 "nbformat": 4,
 "nbformat_minor": 2
}
