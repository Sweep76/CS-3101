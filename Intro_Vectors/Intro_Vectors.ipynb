{
 "cells": [
  {
   "cell_type": "code",
   "execution_count": null,
   "metadata": {},
   "outputs": [],
   "source": [
    "# Link below for sir's repository\n",
    "# https://github.com/gerard-ompad/Linear_Algebra/tree/main"
   ]
  },
  {
   "cell_type": "code",
   "execution_count": 34,
   "metadata": {},
   "outputs": [
    {
     "name": "stdout",
     "output_type": "stream",
     "text": [
      "Let u = (1,-2,4) and v = (3,5,1) w = (2,1,-3)\n",
      "\n",
      "a. 3u-2v: [ -3 -16  10]\n",
      "b. 5u+3v-4w: [ 6  1 35]\n",
      "c. u.v, v.w, u.w\n",
      "  u.v =  -3\n",
      "  v.w =  8\n",
      "  u.w =  -12\n",
      "\n",
      "d. ||u||,||v||,||w||\n",
      "  ||u||:  4.58257569495584\n",
      "  ||v||:  5.916079783099616\n",
      "  ||w||:  3.7416573867739413\n",
      "\n",
      "h. d(u,v)\n",
      "d(u,v):  7.874007874011811\n",
      "\n",
      "h. d(w,v)\n",
      "d(w,v):  5.744562646538029\n",
      "\n",
      "h. d(u,w)\n",
      "d(u,w):  7.681145747868608\n",
      "\n",
      "k. Find proj(u, v)\n",
      "  proj(u,v):  [-0.25714286 -0.42857143 -0.08571429]\n",
      "\n",
      "k. Find proj(w, v)\n",
      "  proj(w,v):  [0.68571429 1.14285714 0.22857143]\n",
      "\n",
      "k. Find proj(u, w)\n",
      "  proj(u,v):  [-1.71428571 -0.85714286  2.57142857]\n"
     ]
    }
   ],
   "source": [
    "# 1. Let u = (1,-2,4) and v = (3,5,1) w = (2,1,-3)\n",
    "import numpy as np\n",
    "u = np.array([1,-2,4])\n",
    "v = np.array([3,5,1])\n",
    "w = np.array([2,1,-3])\n",
    "\n",
    "# a. 3u - 2v\n",
    "# b. 5u + 3v - 4w\n",
    "print(\"Let u = (1,-2,4) and v = (3,5,1) w = (2,1,-3)\\n\")\n",
    "print(\"a. 3u-2v:\",(3*u)-(2*v))\n",
    "print(\"b. 5u+3v-4w:\", (5*u) + (3*v) - (4*w))\n",
    "\n",
    "# c. u.v, v.w, u.w\n",
    "print(\"c. u.v, v.w, u.w\")\n",
    "print(\"  u.v = \", u.dot(v))\n",
    "print(\"  v.w = \", v.dot(w))\n",
    "print(\"  u.w = \", u.dot(w))\n",
    "\n",
    "# d. ||u||,||v||,||w||\n",
    "# Let u = (1,-2,4) and v = (3,5,1) w = (2,1,-3)\n",
    "print(\"\\nd. ||u||,||v||,||w||\")\n",
    "print(\"  ||u||: \", np.sqrt(u.dot(u)))\n",
    "print(\"  ||v||: \", np.sqrt(v.dot(v)))\n",
    "print(\"  ||w||: \", np.sqrt(w.dot(w)))\n",
    "\n",
    "\n",
    "# e. if theta is the angle between u and v find cos 0\n",
    "# f. if a is the angle between v and w find cos a\n",
    "# g. if beta is the angle between u and w find cos b\n",
    "\n",
    "# h. Find d(u,v), Let u = (1,-2,4) and v = (3,5,1) w = (2,1,-3)\n",
    "print(\"\\nh. d(u,v)\")\n",
    "print(\"d(u,v): \", np.linalg.norm(u-v))\n",
    "\n",
    "\n",
    "# i. Find d(w,v)\n",
    "print(\"\\nh. d(w,v)\")\n",
    "print(\"d(w,v): \", np.linalg.norm(w-v))\n",
    "\n",
    "# j. Find d(u,w)\n",
    "print(\"\\nh. d(u,w)\")\n",
    "print(\"d(u,w): \", np.linalg.norm(u-w))\n",
    "\n",
    "# k. Find proj(u, v)\n",
    "print(\"\\nk. Find proj(u, v)\")\n",
    "print(\"  proj(u,v): \",u.dot(v)*v/(np.linalg.norm(v)**2) )\n",
    "\n",
    "# l. Find proj(w, v)\n",
    "print(\"\\nk. Find proj(w, v)\")\n",
    "print(\"  proj(w,v): \",w.dot(v)*v/(np.linalg.norm(v)**2) )\n",
    "\n",
    "# m. Find proj(u, w)\n",
    "print(\"\\nk. Find proj(u, w)\")\n",
    "print(\"  proj(u,v): \",u.dot(w)*w/(np.linalg.norm(w)**2) )\n",
    "\n",
    "\n",
    "\n",
    "\n"
   ]
  },
  {
   "cell_type": "code",
   "execution_count": null,
   "metadata": {},
   "outputs": [],
   "source": []
  }
 ],
 "metadata": {
  "kernelspec": {
   "display_name": "Python 3",
   "language": "python",
   "name": "python3"
  },
  "language_info": {
   "codemirror_mode": {
    "name": "ipython",
    "version": 3
   },
   "file_extension": ".py",
   "mimetype": "text/x-python",
   "name": "python",
   "nbconvert_exporter": "python",
   "pygments_lexer": "ipython3",
   "version": "3.11.5"
  },
  "orig_nbformat": 4
 },
 "nbformat": 4,
 "nbformat_minor": 2
}
